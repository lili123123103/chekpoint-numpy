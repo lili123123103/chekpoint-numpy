{
 "cells": [
  {
   "cell_type": "code",
   "execution_count": 1,
   "id": "5a2a30c7-80a2-4f9c-a4e7-2abd9b3494ac",
   "metadata": {},
   "outputs": [],
   "source": [
    "#question 1\n",
    "import numpy as np\n",
    "new_array=np.array([[3,4,5],[6,7,8]])"
   ]
  },
  {
   "cell_type": "code",
   "execution_count": 2,
   "id": "d58516e9-00cc-4ce1-a5b9-04bd4198e59a",
   "metadata": {},
   "outputs": [
    {
     "data": {
      "text/plain": [
       "array([[1, 2, 3],\n",
       "       [4, 5, 6],\n",
       "       [7, 8, 9]])"
      ]
     },
     "execution_count": 2,
     "metadata": {},
     "output_type": "execute_result"
    }
   ],
   "source": [
    "#question 2 \n",
    "import numpy as np\n",
    "a=np.array ([[1,2,3],[4,5,6],[7,8,9]])\n",
    "a"
   ]
  },
  {
   "cell_type": "code",
   "execution_count": 3,
   "id": "9d9db3e4-7547-4049-b045-4d5d6c8eeb0d",
   "metadata": {},
   "outputs": [
    {
     "data": {
      "text/plain": [
       "15"
      ]
     },
     "execution_count": 3,
     "metadata": {},
     "output_type": "execute_result"
    }
   ],
   "source": [
    "somme=np.trace(a)\n",
    "somme "
   ]
  },
  {
   "cell_type": "code",
   "execution_count": 4,
   "id": "02473b2d-e628-4fc9-a681-5e636f18fec8",
   "metadata": {},
   "outputs": [
    {
     "data": {
      "text/plain": [
       "array([[1, 2],\n",
       "       [3, 5]])"
      ]
     },
     "execution_count": 4,
     "metadata": {},
     "output_type": "execute_result"
    }
   ],
   "source": [
    "#question 3\n",
    "a=np.array ([[1,2],[3,5]])\n",
    "a"
   ]
  },
  {
   "cell_type": "code",
   "execution_count": 5,
   "id": "6c269e95-26a3-4861-ba8b-bbcc2fecafe8",
   "metadata": {},
   "outputs": [
    {
     "name": "stdout",
     "output_type": "stream",
     "text": [
      "[3 5]\n"
     ]
    }
   ],
   "source": [
    "x=2 \n",
    "print (a[a>x])"
   ]
  },
  {
   "cell_type": "code",
   "execution_count": 6,
   "id": "093f0d2a-8f93-4813-8c75-c2cf719344f6",
   "metadata": {},
   "outputs": [],
   "source": [
    "#question 4\n",
    "A=np.array ([[1,2,3],[4,5,6]])\n",
    "B=np.array ([[7,8,9],[10,11,12]])"
   ]
  },
  {
   "cell_type": "code",
   "execution_count": 7,
   "id": "ac3f8c13-4d33-4398-ba1e-bc90d815ea28",
   "metadata": {},
   "outputs": [
    {
     "name": "stdout",
     "output_type": "stream",
     "text": [
      "[[1 2 3]\n",
      " [4 5 6]]\n"
     ]
    }
   ],
   "source": [
    "print (A)"
   ]
  },
  {
   "cell_type": "code",
   "execution_count": 14,
   "id": "0f186f06-d82a-40dd-bd0a-fdc36322961e",
   "metadata": {},
   "outputs": [
    {
     "name": "stdout",
     "output_type": "stream",
     "text": [
      "[[ 7  8  9]\n",
      " [10 11 12]]\n"
     ]
    }
   ],
   "source": [
    "print (B)"
   ]
  },
  {
   "cell_type": "code",
   "execution_count": 9,
   "id": "3b1128e6-9d8a-4791-8c72-4e910b3d5382",
   "metadata": {},
   "outputs": [
    {
     "data": {
      "text/plain": [
       "(2, 3)"
      ]
     },
     "execution_count": 9,
     "metadata": {},
     "output_type": "execute_result"
    }
   ],
   "source": [
    "A.shape"
   ]
  },
  {
   "cell_type": "code",
   "execution_count": 10,
   "id": "8fc93e5a-244c-49b3-a23a-6d794586f10a",
   "metadata": {},
   "outputs": [
    {
     "data": {
      "text/plain": [
       "(2, 3)"
      ]
     },
     "execution_count": 10,
     "metadata": {},
     "output_type": "execute_result"
    }
   ],
   "source": [
    "B.shape"
   ]
  },
  {
   "cell_type": "code",
   "execution_count": 12,
   "id": "dc2381ee-6b3d-4fbc-81c3-3bd69f7742b8",
   "metadata": {},
   "outputs": [
    {
     "name": "stdout",
     "output_type": "stream",
     "text": [
      "[[ 8 10 12]\n",
      " [14 16 18]]\n"
     ]
    }
   ],
   "source": [
    "C=A+B\n",
    "print (C)"
   ]
  },
  {
   "cell_type": "code",
   "execution_count": 13,
   "id": "4fe093e2-5cfb-4bd7-98dc-d89d09440c93",
   "metadata": {},
   "outputs": [
    {
     "data": {
      "text/plain": [
       "array([[ 8, 10, 12],\n",
       "       [14, 16, 18]])"
      ]
     },
     "execution_count": 13,
     "metadata": {},
     "output_type": "execute_result"
    }
   ],
   "source": [
    "y=np.add(A,B)\n",
    "y"
   ]
  },
  {
   "cell_type": "code",
   "execution_count": 15,
   "id": "2b7fbcbd-d7c8-4d87-853a-e2a5f28d6765",
   "metadata": {},
   "outputs": [
    {
     "data": {
      "text/plain": [
       "array([[19, 13, 16],\n",
       "       [18, 17, 16],\n",
       "       [15, 12, 13],\n",
       "       [14, 11, 10]])"
      ]
     },
     "execution_count": 15,
     "metadata": {},
     "output_type": "execute_result"
    }
   ],
   "source": [
    "#exercice 5\n",
    "x=np.random.randint(10,20,size=(4,3))\n",
    "x"
   ]
  },
  {
   "cell_type": "code",
   "execution_count": 18,
   "id": "a034d9cb-ed3c-4fd0-93d9-6d09e3671eff",
   "metadata": {},
   "outputs": [
    {
     "data": {
      "text/plain": [
       "4"
      ]
     },
     "execution_count": 18,
     "metadata": {},
     "output_type": "execute_result"
    }
   ],
   "source": [
    "f=x.shape\n",
    "n=f[0]\n",
    "n"
   ]
  },
  {
   "cell_type": "code",
   "execution_count": 19,
   "id": "75dd5fa7-f73b-47d9-86a4-9237f01a235a",
   "metadata": {},
   "outputs": [
    {
     "name": "stdout",
     "output_type": "stream",
     "text": [
      "the mean of row 0  = 16.0\n",
      "the mean of row 1  = 17.0\n",
      "the mean of row 2  = 13.333333333333334\n",
      "the mean of row 3  = 11.666666666666666\n"
     ]
    }
   ],
   "source": [
    "for i in range (n):\n",
    "    y=np.mean(x[i])\n",
    "    print(\"the mean of row\",i,\" =\", y)"
   ]
  },
  {
   "cell_type": "code",
   "execution_count": null,
   "id": "2318a450-6407-474c-add8-5f3c0bd927a2",
   "metadata": {},
   "outputs": [],
   "source": []
  }
 ],
 "metadata": {
  "kernelspec": {
   "display_name": "Python 3",
   "language": "python",
   "name": "python3"
  },
  "language_info": {
   "codemirror_mode": {
    "name": "ipython",
    "version": 3
   },
   "file_extension": ".py",
   "mimetype": "text/x-python",
   "name": "python",
   "nbconvert_exporter": "python",
   "pygments_lexer": "ipython3",
   "version": "3.8.8"
  }
 },
 "nbformat": 4,
 "nbformat_minor": 5
}
